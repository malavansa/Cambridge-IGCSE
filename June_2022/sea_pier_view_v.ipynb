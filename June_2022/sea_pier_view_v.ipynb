{
 "cells": [
  {
   "cell_type": "code",
   "execution_count": 5,
   "metadata": {},
   "outputs": [
    {
     "name": "stdout",
     "output_type": "stream",
     "text": [
      "Select options: \n",
      "1. add records \n",
      "2. Exit\n",
      "['Malavan Satkunam']\n",
      "['Malavan Satkunam']\n",
      "75\n",
      "Select options: \n",
      "1. add records \n",
      "2. Exit\n"
     ]
    }
   ],
   "source": [
    "import datetime \n",
    "members = []\n",
    "paid_members = []\n",
    "total_payment = 0\n",
    "while True:\n",
    "    print('Select options: \\n1. add records \\n2. Exit')\n",
    "    option = int(input('Enter option:'))\n",
    "    if option == 1:\n",
    "        first_name = input('Enter your first name: ')\n",
    "        last_name = input('Enter your last name: ')\n",
    "        is_volunteer = input('Do you wish to work as a volunteer? [Yes or No]')\n",
    "        is_volunteer = is_volunteer.replace(' ', '').lower()\n",
    "        if is_volunteer == 'yes':\n",
    "            area = input(\"Identify the are from: \\n1.the pier entrance gate \\n2.the gift shop \\n3.painting and decorating\")\n",
    "        joined_date = datetime.datetime.now().date()\n",
    "        is_paid = input(\"Do you want to play USD75? [Yes or No]\")\n",
    "        if is_paid.replace(' ', '').lower() == 'yes':\n",
    "            total_payment += 75\n",
    "            paid_members.append(first_name + ' ' + last_name)\n",
    "        members.append(first_name + ' ' + last_name)\n",
    "        print(members)\n",
    "        print(paid_members)\n",
    "        print(total_payment)\n",
    "    else:\n",
    "        break\n",
    "\n",
    "    \n",
    "\n",
    "\n",
    "\n",
    "\n"
   ]
  }
 ],
 "metadata": {
  "kernelspec": {
   "display_name": "Python 3",
   "language": "python",
   "name": "python3"
  },
  "language_info": {
   "codemirror_mode": {
    "name": "ipython",
    "version": 3
   },
   "file_extension": ".py",
   "mimetype": "text/x-python",
   "name": "python",
   "nbconvert_exporter": "python",
   "pygments_lexer": "ipython3",
   "version": "3.10.11"
  }
 },
 "nbformat": 4,
 "nbformat_minor": 2
}
